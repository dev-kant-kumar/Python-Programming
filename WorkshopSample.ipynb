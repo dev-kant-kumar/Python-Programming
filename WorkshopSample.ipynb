{
  "cells": [
    {
      "cell_type": "markdown",
      "metadata": {
        "id": "view-in-github",
        "colab_type": "text"
      },
      "source": [
        "<a href=\"https://colab.research.google.com/github/dev-kant-kumar/Python-Programming/blob/main/WorkshopSample.ipynb\" target=\"_parent\"><img src=\"https://colab.research.google.com/assets/colab-badge.svg\" alt=\"Open In Colab\"/></a>"
      ]
    },
    {
      "cell_type": "markdown",
      "id": "21b3a7cc-f9f3-437d-9105-cd776966ddc0",
      "metadata": {
        "id": "21b3a7cc-f9f3-437d-9105-cd776966ddc0"
      },
      "source": [
        "# Installation"
      ]
    },
    {
      "cell_type": "code",
      "execution_count": null,
      "id": "49a91ed5-cef1-4362-86aa-8a924b2a0765",
      "metadata": {
        "scrolled": true,
        "id": "49a91ed5-cef1-4362-86aa-8a924b2a0765"
      },
      "outputs": [],
      "source": [
        "!pip install -q yt-dlp\n",
        "!pip install -q git+https://github.com/openai/whisper.git\n",
        "!pip install -U deeplake\n",
        "!pip install langchain\n",
        "!pip install openai"
      ]
    },
    {
      "cell_type": "markdown",
      "id": "0c93b503-e71a-42b7-8827-607aca9252f0",
      "metadata": {
        "id": "0c93b503-e71a-42b7-8827-607aca9252f0"
      },
      "source": [
        "# Imports"
      ]
    },
    {
      "cell_type": "code",
      "execution_count": 36,
      "id": "9baaa146-af30-482d-a915-d4c6b7da0105",
      "metadata": {
        "id": "9baaa146-af30-482d-a915-d4c6b7da0105"
      },
      "outputs": [],
      "source": [
        "import yt_dlp\n",
        "import whisper\n",
        "import textwrap\n",
        "from langchain import OpenAI, LLMChain\n",
        "from langchain.chains.mapreduce import MapReduceChain\n",
        "from langchain.prompts import PromptTemplate\n",
        "from langchain.chains.summarize import load_summarize_chain\n",
        "from langchain.text_splitter import RecursiveCharacterTextSplitter\n",
        "from langchain.docstore.document import Document\n",
        "from langchain.vectorstores import DeepLake\n",
        "from langchain.embeddings.openai import OpenAIEmbeddings\n",
        "from langchain.chains import RetrievalQA"
      ]
    },
    {
      "cell_type": "markdown",
      "id": "a678528e-c651-4fee-b0ec-602dcc5d6803",
      "metadata": {
        "id": "a678528e-c651-4fee-b0ec-602dcc5d6803"
      },
      "source": [
        "# Video Downloader"
      ]
    },
    {
      "cell_type": "code",
      "execution_count": 3,
      "id": "d58b1dd0-67af-498a-9439-c9b3235a7228",
      "metadata": {
        "id": "d58b1dd0-67af-498a-9439-c9b3235a7228"
      },
      "outputs": [],
      "source": [
        "# Video info Function\n",
        "def video_downloader(urls, job_id):\n",
        "    # for storing information of videos\n",
        "    video_info = []\n",
        "\n",
        "    for i, url in enumerate(urls):\n",
        "        file_name = f'./{job_id}_{i}.mp4'\n",
        "        ydl_opts = {\n",
        "            'outtmpl' : file_name,\n",
        "            'quite' : True,\n",
        "            'format' : \"bestvideo[ext=mp4]+bestaudio[ext=m4a]/best[ext=mp3]\"\n",
        "        }\n",
        "\n",
        "        with yt_dlp.YoutubeDL(ydl_opts) as ydl:\n",
        "            # The line below is downloading the video\n",
        "            result = ydl.extract_info(url, download=True)\n",
        "            author = result.get(\"uploader\",\"\")\n",
        "            title = result.get(\"title\",\"\")\n",
        "\n",
        "        video_info.append((file_name, title, author))\n",
        "    return video_info"
      ]
    },
    {
      "cell_type": "code",
      "execution_count": null,
      "id": "c3ff0cd4-f080-4d4d-a420-0f0123372506",
      "metadata": {
        "id": "c3ff0cd4-f080-4d4d-a420-0f0123372506"
      },
      "outputs": [],
      "source": [
        "# Download\n",
        "url = [\"https://www.youtube.com/watch?v=0FX4jVAL1eg&pp=ygUJam9lIHJvZ2Fu\"]\n",
        "video_details = video_downloader(url, \"A1\")"
      ]
    },
    {
      "cell_type": "markdown",
      "id": "e7aeccab-d8a6-4862-80af-f0945143aad3",
      "metadata": {
        "id": "e7aeccab-d8a6-4862-80af-f0945143aad3"
      },
      "source": [
        "# Transcription"
      ]
    },
    {
      "cell_type": "code",
      "execution_count": null,
      "id": "2a389786-b7bc-48a6-b2cb-9e4e41ba030f",
      "metadata": {
        "id": "2a389786-b7bc-48a6-b2cb-9e4e41ba030f"
      },
      "outputs": [],
      "source": [
        "# Loading Whisper model\n",
        "model = whisper.load_model(\"base\")\n",
        "result = model.transcribe(\"A1_0.mp4\")\n",
        "print(result[\"text\"])"
      ]
    },
    {
      "cell_type": "code",
      "execution_count": 26,
      "id": "6186e9e2-2403-4ac7-ac12-fbd213c2a702",
      "metadata": {
        "id": "6186e9e2-2403-4ac7-ac12-fbd213c2a702"
      },
      "outputs": [],
      "source": [
        "# Writing Transcription\n",
        "with open(\"./DocumentOne.txt\", 'w') as f:\n",
        "    f.write(result['text'])"
      ]
    },
    {
      "cell_type": "code",
      "execution_count": 34,
      "id": "bd47e206-b468-475b-a8e6-fe735e0c0dad",
      "metadata": {
        "id": "bd47e206-b468-475b-a8e6-fe735e0c0dad"
      },
      "outputs": [],
      "source": [
        "# Initializing the LLM\n",
        "llm = OpenAI(openai_api_key=openai_api_key,model_name='text-davinci-003', temperature=0)"
      ]
    },
    {
      "cell_type": "code",
      "execution_count": 35,
      "id": "b829d354-8665-4b12-92b8-7ed06251977b",
      "metadata": {
        "id": "b829d354-8665-4b12-92b8-7ed06251977b"
      },
      "outputs": [],
      "source": [
        "# Initializing the Text Splitter\n",
        "text_splitter = RecursiveCharacterTextSplitter(\n",
        "    chunk_size=1000, chunk_overlap=0, separators=[\" \", \",\", \"\\n\"]\n",
        ")"
      ]
    },
    {
      "cell_type": "code",
      "execution_count": 14,
      "id": "94399fee-627f-41a9-a658-6a0142c4dd79",
      "metadata": {
        "id": "94399fee-627f-41a9-a658-6a0142c4dd79"
      },
      "outputs": [],
      "source": [
        "# Splitting the text\n",
        "with open('./DocumentOne.txt', 'r') as file:\n",
        "    text = file.read()\n",
        "\n",
        "texts = text_splitter.split_text(text)\n",
        "docs = [Document(page_content=t) for t in texts[:4]]"
      ]
    },
    {
      "cell_type": "code",
      "execution_count": null,
      "id": "e80be296-2bf6-4c89-8577-52f4558e891c",
      "metadata": {
        "id": "e80be296-2bf6-4c89-8577-52f4558e891c"
      },
      "outputs": [],
      "source": [
        "# Initializing the Chain with different Chain types\n",
        "chain = load_summarize_chain(llm=llm, chain_type='map_reduce') # Use chain types \"refine\"\n",
        "\n",
        "summary = chain.run(docs)\n",
        "\n",
        "# Text Wrap\n",
        "wrap = textwrap.fill(summary, width=100)\n",
        "print(wrap)"
      ]
    },
    {
      "cell_type": "code",
      "execution_count": 16,
      "id": "71618a8b-f79b-489a-833b-e3579830b8ba",
      "metadata": {
        "id": "71618a8b-f79b-489a-833b-e3579830b8ba",
        "outputId": "75459fd5-ad6a-4525-dacc-cd0633ed180e",
        "colab": {
          "base_uri": "https://localhost:8080/"
        }
      },
      "outputs": [
        {
          "output_type": "stream",
          "name": "stdout",
          "text": [
            "    - Jellyfish have been found to be able to learn despite not having a brain\n",
            "    - It is suggested that this is because they live in a vibrational universe and can feel the vibes\n",
            "    - Box jellyfish are poisonous and seem to be aware of danger\n",
            "    - Octopi are very smart and can memorize, open mason jars, and unlock doors\n"
          ]
        }
      ],
      "source": [
        "prompt_template = \"\"\"\n",
        "    Write a concise summary of the following:\n",
        "\n",
        "\n",
        "    \"{text}\"\n",
        "\n",
        "\n",
        "    CONCISE SUMMARY IN BULLET POINTS\n",
        "\"\"\"\n",
        "\n",
        "Bullet_point_template = PromptTemplate(\n",
        "    template=prompt_template,\n",
        "    input_variables=[\"text\"]\n",
        ")\n",
        "\n",
        "returnn = load_summarize_chain(llm=llm, chain_type=\"stuff\", prompt=Bullet_point_template)\n",
        "\n",
        "summary1 = returnn.run(docs)\n",
        "wrap1 = textwrap.fill(summary1, width=1000, break_long_words=False, replace_whitespace=False)\n",
        "print(wrap1)"
      ]
    },
    {
      "cell_type": "markdown",
      "id": "9f4346cb-be0d-487a-a3a4-1ff7dd8c232b",
      "metadata": {
        "id": "9f4346cb-be0d-487a-a3a4-1ff7dd8c232b"
      },
      "source": [
        "# Adding Transcripts to DeepLake"
      ]
    },
    {
      "cell_type": "code",
      "execution_count": 20,
      "id": "34e7c744-3d01-4f26-a4cf-75957577bcf3",
      "metadata": {
        "id": "34e7c744-3d01-4f26-a4cf-75957577bcf3",
        "outputId": "d9b67e64-7e39-4638-e1e3-4105288a3c31",
        "colab": {
          "base_uri": "https://localhost:8080/"
        }
      },
      "outputs": [
        {
          "output_type": "stream",
          "name": "stdout",
          "text": [
            "Successfully logged in to Activeloop.\n"
          ]
        }
      ],
      "source": [
        "# Login\n",
        "!activeloop login -u username -p <password>"
      ]
    },
    {
      "cell_type": "code",
      "execution_count": null,
      "id": "c52677cc-fa34-4332-930f-e41a899ff767",
      "metadata": {
        "id": "c52677cc-fa34-4332-930f-e41a899ff767"
      },
      "outputs": [],
      "source": [
        "# Embedding & Upload\n",
        "embeddings = OpenAIEmbeddings(openai_api_key=openai_api_key,model='text-embedding-ada-002')\n",
        "activeloop_id = 'username\n",
        "dataset = 'VideoSummarizer2'\n",
        "dataset_path = f\"hub://{activeloop_id}/{dataset}\"\n",
        "\n",
        "db = DeepLake(dataset_path=dataset_path, embedding_function=embeddings)\n",
        "db.add_documents(docs)"
      ]
    },
    {
      "cell_type": "markdown",
      "id": "a7d2e947-34f2-4c31-8f67-c3beffde78ce",
      "metadata": {
        "id": "a7d2e947-34f2-4c31-8f67-c3beffde78ce"
      },
      "source": [
        "# Retriever"
      ]
    },
    {
      "cell_type": "code",
      "execution_count": 22,
      "id": "f34f0ae1-86da-478e-8c6c-9db54c7bee3e",
      "metadata": {
        "id": "f34f0ae1-86da-478e-8c6c-9db54c7bee3e"
      },
      "outputs": [],
      "source": [
        "# Retriever Defining\n",
        "retriver = db.as_retriever()\n",
        "retriver.search_kwargs['distance_metric'] = 'cos'\n",
        "retriver.search_kwargs['k'] = 4"
      ]
    },
    {
      "cell_type": "code",
      "execution_count": 23,
      "id": "6bd0f2dc-3577-4354-857d-f42513817a6f",
      "metadata": {
        "id": "6bd0f2dc-3577-4354-857d-f42513817a6f"
      },
      "outputs": [],
      "source": [
        "# Retriver Template\n",
        "template = \"\"\" Use the following pieces of transcripts from a database to answer the question in bullet point and summarized.\n",
        "And if the answer is not in the given transcript, then just say you don't know, Don't try to forge an answer outside of the\n",
        "provided retriever.\n",
        "\n",
        "{context}\n",
        "\n",
        "Question = {question}\n",
        "Answer in summarized bullet points:\n",
        "\"\"\"\n",
        "\n",
        "prompt_template = PromptTemplate(template=template, input_variables=['context', 'question'])"
      ]
    },
    {
      "cell_type": "code",
      "execution_count": 24,
      "id": "f600d21f-f986-4143-992d-ba57465df94f",
      "metadata": {
        "id": "f600d21f-f986-4143-992d-ba57465df94f"
      },
      "outputs": [],
      "source": [
        "# Retriever Initialization\n",
        "chain_type_kwargs = {\"prompt\" : prompt_template}\n",
        "qa = RetrievalQA.from_chain_type(llm = llm,\n",
        "                               chain_type=\"stuff\",\n",
        "                               retriever = retriver,\n",
        "                               chain_type_kwargs=chain_type_kwargs)"
      ]
    },
    {
      "cell_type": "code",
      "execution_count": 25,
      "id": "3e3e2dd3-8575-47c5-ab50-01c7b8059a9c",
      "metadata": {
        "id": "3e3e2dd3-8575-47c5-ab50-01c7b8059a9c",
        "outputId": "bb2e949b-930c-4ac6-b9cc-ba9d2db907c4",
        "colab": {
          "base_uri": "https://localhost:8080/"
        }
      },
      "outputs": [
        {
          "output_type": "stream",
          "name": "stdout",
          "text": [
            "- Thinking and creating the world\n",
            "- Being aware of danger\n",
            "- Memorizing things\n",
            "- Being able to open mason jars\n",
            "- Being able to unlock doors\n",
            "- Being able to figure out how things work\n"
          ]
        }
      ],
      "source": [
        "# Inference\n",
        "print(qa.run(\"What are the signs of top 1% humans?\")) # Why Jellyfish is considered intelligent?"
      ]
    },
    {
      "cell_type": "code",
      "execution_count": 25,
      "id": "ca3f1b65-c571-43b9-a8bb-fe6b1d6e6133",
      "metadata": {
        "id": "ca3f1b65-c571-43b9-a8bb-fe6b1d6e6133"
      },
      "outputs": [],
      "source": []
    }
  ],
  "metadata": {
    "kernelspec": {
      "display_name": "Python 3 (ipykernel)",
      "language": "python",
      "name": "python3"
    },
    "language_info": {
      "codemirror_mode": {
        "name": "ipython",
        "version": 3
      },
      "file_extension": ".py",
      "mimetype": "text/x-python",
      "name": "python",
      "nbconvert_exporter": "python",
      "pygments_lexer": "ipython3",
      "version": "3.11.3"
    },
    "colab": {
      "provenance": [],
      "include_colab_link": true
    }
  },
  "nbformat": 4,
  "nbformat_minor": 5
}
